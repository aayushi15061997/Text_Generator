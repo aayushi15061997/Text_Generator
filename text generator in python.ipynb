{
 "cells": [
  {
   "cell_type": "code",
   "execution_count": null,
   "metadata": {},
   "outputs": [],
   "source": [
    "import random , string\n",
    "\n",
    "letter_input_1 = input(\"What do you want to input? Enter '\\v'\\ for vowels,Enter '\\c'\\ for consonants,Enter '\\l'\\ for any other letter\")\n",
    "letter_input_2 = input(\"What do you want to input? Enter '\\v'\\ for vowels,Enter '\\c'\\ for consonants,Enter '\\l'\\ for any other letter\")\n",
    "letter_input_3 = input(\"What do you want to input? Enter '\\v'\\ for vowels,Enter '\\c'\\ for consonants,Enter '\\l'\\ for any other letter\")\n",
    "\n",
    "vowels='aeiou'\n",
    "consonants ='bcdfghjklmnpqrstvwxyz'\n",
    "letters = string.ascii_lowercase\n",
    "#write a func to generate a 3 letter word in lowercase\n",
    "#we use random to choose a letter from the ascii characters at random\n",
    "def generator ():\n",
    "    #create three variables to store ascii chara.\n",
    "    if letter_input_1 == 'v':\n",
    "        letter1 = random.choice(vowels)\n",
    "    elif letter_input_1 == 'c':\n",
    "        letter1 = random.choice(consonants)\n",
    "    elif letter_input_1 == 'l':\n",
    "        letter1 = random.choice(letters)\n",
    "    else :\n",
    "        letter1 = letter_input_1\n",
    "        \n",
    "    if letter_input_2 == 'v':\n",
    "        letter2  = random.choice(vowels)\n",
    "    elif letter_input_2 == 'c':\n",
    "        letter2 = random.choice(consonants)\n",
    "    elif letter_input_2 == 'l':\n",
    "        letter2 = random.choice(letters)\n",
    "    else :\n",
    "        letter2 = letter_input_2\n",
    "        \n",
    "    if letter_input_3 == 'v':\n",
    "        letter3 = random.choice(vowels)\n",
    "    elif letter_input_3 == 'c':\n",
    "        letter3 = random.choice(consonants)\n",
    "    elif letter_input_3 == 'l':\n",
    "        letter3 = random.choice(letters)\n",
    "    else :\n",
    "        letter3 = letter_input_3\n",
    "    name = letter1 + letter2 + letter3#concatenate the variables into a string\n",
    "    return (name)\n",
    "for i in range (20) :\n",
    "    print(generator())\n"
   ]
  },
  {
   "cell_type": "code",
   "execution_count": null,
   "metadata": {},
   "outputs": [],
   "source": [
    "#logic for the generator\n",
    "import random , string\n",
    "\n",
    "letter_input_1 = input(\"What do you want to input? Enter '\\v'\\ for vowels,Enter '\\c'\\ for consonants,Enter '\\l'\\ for any other letter\")\n",
    "letter_input_2 = input(\"What do you want to input? Enter '\\v'\\ for vowels,Enter '\\c'\\ for consonants,Enter '\\l'\\ for any other letter\")\n",
    "letter_input_3 = input(\"What do you want to input? Enter '\\v'\\ for vowels,Enter '\\c'\\ for consonants,Enter '\\l'\\ for any other letter\")\n",
    "#write a func to generate a 3 letter word\n",
    "#we use random to choose a letter from the ascii characters at random\n",
    "def generator ():\n",
    "    #create three variables to store ascii chara.\n",
    "    letter1 = random.choice(string.ascii_letters)\n",
    "    letter2 = random.choice(string.ascii_letters)\n",
    "    letter3 = random.choice(string.ascii_letters)\n",
    "    name = letter1 + letter2 + letter3 #concatenate the variables into a string\n",
    "    return name\n",
    "    \n",
    "print(generator())\n"
   ]
  },
  {
   "cell_type": "code",
   "execution_count": null,
   "metadata": {},
   "outputs": [],
   "source": [
    "help(string)"
   ]
  }
 ],
 "metadata": {
  "kernelspec": {
   "display_name": "Python 3",
   "language": "python",
   "name": "python3"
  },
  "language_info": {
   "codemirror_mode": {
    "name": "ipython",
    "version": 3
   },
   "file_extension": ".py",
   "mimetype": "text/x-python",
   "name": "python",
   "nbconvert_exporter": "python",
   "pygments_lexer": "ipython3",
   "version": "3.6.4"
  }
 },
 "nbformat": 4,
 "nbformat_minor": 2
}
